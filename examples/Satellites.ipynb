{
 "cells": [
  {
   "cell_type": "code",
   "execution_count": 23,
   "metadata": {
    "collapsed": false
   },
   "outputs": [],
   "source": [
    "# TODO remove\n",
    "import sys\n",
    "sys.path.append('/Applications/BayesDB-bayes0.1.dev20150727-262-g5df8e0c.app/Contents/MacOS/venv/lib/python2.7/site-packages')\n",
    "\n",
    "# --- The APIs that are being highlighed ---\n",
    "\n",
    "# the main API for loading / saving tables, running BQL queries, returns cursor objects\n",
    "import bayeslite\n",
    "\n",
    "# pretty printing tables to screen (can take cursors as input)\n",
    "import bayeslite.shell.pretty as pretty\n",
    "\n",
    "# plotting\n",
    "from bdbcontrib import plotutils\n",
    "# TODO once fsaad is done use instead: from bdbcontrib import contrib_plot\n",
    "# importing contrib_plot currently fails with 'No current shell!' error.\n",
    "\n",
    "# ipython notebook will generate plots inline given a fig object.\n",
    "import matplotlib.pyplot as plt\n",
    "%matplotlib inline\n",
    "\n",
    "# other utilities\n",
    "from bdbcontrib import general_utils # conttains???\n",
    "from bdbcontrib import bql_utils  # contains cursor_to_df\n",
    "# TODO once fsaad is done use instead: from bdbcontrib import contrib_util\n",
    "# importing general_utils currently fails with 'No current shell!' error."
   ]
  },
  {
   "cell_type": "markdown",
   "metadata": {},
   "source": [
    "Introduction\n",
    "=====\n",
    "In this example we will explore the core functionality of BayesDB by using BayesDB to explore and analyze some real data. The data we will use is the Union of Concerned Scientists' Satellites data. The data is a catalogue of satellites. Each row of the data represents a satellite and each column is a feature of that satellite such as dry mass, orbit type, launch date, perigee, etc."
   ]
  },
  {
   "cell_type": "markdown",
   "metadata": {},
   "source": [
    "Loading the Bayesian Database\n",
    "=====\n",
    "The first thing to do is to open our Bayesian database that contains the Bayesian model of the satellites data. This database resides on disk in the form of a `.bdb` file."
   ]
  },
  {
   "cell_type": "code",
   "execution_count": 24,
   "metadata": {
    "collapsed": true
   },
   "outputs": [],
   "source": [
    "satellites_bdb = bayeslite.bayesdb_open(\"satellites.bdb\")"
   ]
  },
  {
   "cell_type": "markdown",
   "metadata": {},
   "source": [
    "This database contains one table, named `satellites`. We also associate the Bayesian data model with the original raw data, which are in csv format with a header containing the column names."
   ]
  },
  {
   "cell_type": "code",
   "execution_count": 25,
   "metadata": {
    "collapsed": false
   },
   "outputs": [],
   "source": [
    "bayeslite.bayesdb_read_csv_file(satellites_bdb, \"satellites\", \"satellites.utf8.csv\", \n",
    "                                header=True, create=True, ifnotexists=True)"
   ]
  },
  {
   "cell_type": "markdown",
   "metadata": {},
   "source": [
    "Before you can use BQL modelling for your data, you must use register a metamodel, such as the Crosscat metamodel with which the `.bdb` file was built."
   ]
  },
  {
   "cell_type": "code",
   "execution_count": 26,
   "metadata": {
    "collapsed": false
   },
   "outputs": [],
   "source": [
    "import crosscat.LocalEngine\n",
    "import bayeslite.crosscat\n",
    "crosscat_engine = crosscat.LocalEngine.LocalEngine(seed=0)\n",
    "crosscat_metamodel = bayeslite.crosscat.CrosscatMetamodel(crosscat_engine)\n",
    "bayeslite.bayesdb_register_metamodel(satellites_bdb, crosscat_metamodel)"
   ]
  },
  {
   "cell_type": "markdown",
   "metadata": {},
   "source": [
    "We also register a generator that uses heuristics to guess the types of columns."
   ]
  },
  {
   "cell_type": "code",
   "execution_count": 27,
   "metadata": {
    "collapsed": false
   },
   "outputs": [],
   "source": [
    "generator = bayeslite.guess.bayesdb_guess_generator(satellites_bdb, 'satellites_cc', 'satellites', 'crosscat', \n",
    "                                                    ifnotexists=True)"
   ]
  },
  {
   "cell_type": "markdown",
   "metadata": {},
   "source": [
    "TODO We can see how well the system guess the types of our columns by using the `.describe command."
   ]
  },
  {
   "cell_type": "markdown",
   "metadata": {
    "collapsed": true
   },
   "source": [
    "Standard Database Functionality\n",
    "====\n",
    "We can use a SQLite command to list the columns in the table. We easily convert the output into a Pandas dataframe."
   ]
  },
  {
   "cell_type": "code",
   "execution_count": 28,
   "metadata": {
    "collapsed": false
   },
   "outputs": [
    {
     "name": "stdout",
     "output_type": "stream",
     "text": [
      "cid |                         name |    type | notnull | dflt_value | pk\n",
      "----+------------------------------+---------+---------+------------+---\n",
      "  0 |                         Name | NUMERIC |       0 |       None |  0\n",
      "  1 |          Country_of_Operator | NUMERIC |       0 |       None |  0\n",
      "  2 |               Operator_Owner | NUMERIC |       0 |       None |  0\n",
      "  3 |                        Users | NUMERIC |       0 |       None |  0\n",
      "  4 |                      Purpose | NUMERIC |       0 |       None |  0\n",
      "  5 |               Class_of_Orbit | NUMERIC |       0 |       None |  0\n",
      "  6 |                Type_of_Orbit | NUMERIC |       0 |       None |  0\n",
      "  7 |                   Perigee_km | NUMERIC |       0 |       None |  0\n",
      "  8 |                    Apogee_km | NUMERIC |       0 |       None |  0\n",
      "  9 |                 Eccentricity | NUMERIC |       0 |       None |  0\n",
      " 10 |               Period_minutes | NUMERIC |       0 |       None |  0\n",
      " 11 |               Launch_Mass_kg | NUMERIC |       0 |       None |  0\n",
      " 12 |                  Dry_Mass_kg | NUMERIC |       0 |       None |  0\n",
      " 13 |                  Power_watts | NUMERIC |       0 |       None |  0\n",
      " 14 |               Date_of_Launch | NUMERIC |       0 |       None |  0\n",
      " 15 |         Anticipated_Lifetime | NUMERIC |       0 |       None |  0\n",
      " 16 |                   Contractor | NUMERIC |       0 |       None |  0\n",
      " 17 |        Country_of_Contractor | NUMERIC |       0 |       None |  0\n",
      " 18 |                  Launch_Site | NUMERIC |       0 |       None |  0\n",
      " 19 |               Launch_Vehicle | NUMERIC |       0 |       None |  0\n",
      " 20 | Source_Used_for_Orbital_Data | NUMERIC |       0 |       None |  0\n",
      " 21 |     longitude_radians_of_geo | NUMERIC |       0 |       None |  0\n",
      " 22 |          Inclination_radians | NUMERIC |       0 |       None |  0\n"
     ]
    }
   ],
   "source": [
    "pretty.pp_cursor(sys.stdout, satellites_bdb.sql_execute('PRAGMA table_info(satellites)'))"
   ]
  },
  {
   "cell_type": "markdown",
   "metadata": {},
   "source": [
    "We can select data just as we would in SQL in BQL:"
   ]
  },
  {
   "cell_type": "code",
   "execution_count": 29,
   "metadata": {
    "collapsed": false,
    "scrolled": false
   },
   "outputs": [
    {
     "name": "stdout",
     "output_type": "stream",
     "text": [
      "                                                   Name | Dry_Mass_kg | Period_minutes | Class_of_Orbit\n",
      "--------------------------------------------------------+-------------+----------------+---------------\n",
      "                                               AAUSat-3 |        None |         100.42 |            LEO\n",
      "          ABS-1 (LMI-1, Lockheed Martin-Intersputnik-1) |        1730 |        1436.08 |            GEO\n",
      "               ABS-1A (Koreasat 2, Mugunghwa 2, ABS-1A) |         800 |        1436.13 |            GEO\n",
      "ABS-2i (MBSat, Mobile Broadcasting Satellite, Han Byul) |        1700 |         1436.1 |            GEO\n",
      "                        ABS-7 (Koreasat 3, Mugungwha 3) |        1800 |        1436.06 |            GEO\n",
      " AcrimSat (Active Cavity Radiometer Irradiance Monitor) |          13 |           98.6 |            LEO\n",
      "                     Advanced Orion 2 (NROL 6, USA 139) |        None |        1436.14 |            GEO\n",
      "                    Advanced Orion 3 (NROL 19, USA 171) |        None |         1436.1 |            GEO\n",
      "                   Advanced Orion 4 (NRO L-26, USA 202) |        None |         1438.8 |            GEO\n",
      "                   Advanced Orion 5 (NRO L-32, USA 223) |        None |           None |            GEO\n"
     ]
    }
   ],
   "source": [
    "pretty.pp_cursor(sys.stdout, satellites_bdb.execute(\n",
    "        'SELECT name, dry_mass_kg, period_minutes, class_of_orbit FROM satellites LIMIT 10;'))\n",
    "# TODO beautify"
   ]
  },
  {
   "cell_type": "markdown",
   "metadata": {},
   "source": [
    "Visualizing the Data\n",
    "====="
   ]
  },
  {
   "cell_type": "markdown",
   "metadata": {},
   "source": [
    "We can also use visualization tools packaged with BayesDB. In the next example, the first argument `dry_mass_kg` is a `NUMERICAL` variable and its conditional distribution is plotted for each value of the categorical variable `class_of_orbit`, alongside the marginal distributions."
   ]
  },
  {
   "cell_type": "code",
   "execution_count": 32,
   "metadata": {
    "collapsed": false
   },
   "outputs": [
    {
     "name": "stdout",
     "output_type": "stream",
     "text": [
      "Dry_Mass_kg | Class_of_Orbit\n",
      "------------+---------------\n",
      "       None |            LEO\n",
      "       1730 |            GEO\n",
      "        800 |            GEO\n",
      "       1700 |            GEO\n",
      "       1800 |            GEO\n",
      "         13 |            LEO\n",
      "       None |            GEO\n",
      "       None |            GEO\n",
      "       None |            GEO\n",
      "       None |            GEO\n"
     ]
    },
    {
     "data": {
      "image/png": "[encoded data removed]",
      "text/plain": [
       "<matplotlib.figure.Figure at 0x116d4f7d0>"
      ]
     },
     "metadata": {},
     "output_type": "display_data"
    }
   ],
   "source": [
    "# print some of the data before it gets plotted\n",
    "pretty.pp_cursor(sys.stdout, satellites_bdb.execute(\n",
    "        'SELECT dry_mass_kg, class_of_orbit FROM satellites LIMIT 10'))\n",
    "\n",
    "# TODO once fsaad is done, we won't need the dataframe\n",
    "# (the plotting will take the BQL command itself)\n",
    "df = bql_utils.cursor_to_df(satellites_bdb.execute(\n",
    "        'SELECT dry_mass_kg, class_of_orbit FROM satellites'))\n",
    "c = len(df.columns)*4\n",
    "fig = plt.figure(tight_layout=True, figsize=(c, c))\n",
    "gs = plotutils.pairplot(df, bdb=satellites_bdb, generator_name='satellites_cc',\n",
    "                        use_shortname=None, show_contour=False,\n",
    "                        colorby=None, show_missing=True, show_full=False)\n",
    "plt.show()"
   ]
  },
  {
   "cell_type": "markdown",
   "metadata": {},
   "source": [
    "Inferring Missing Data\n",
    "=====\n",
    "Inferring is like imputing. `INFER` produces a summary value for a missing (`NULL`) entry. If we use the `EXPLICIT` keyword, we can re-infer present values."
   ]
  },
  {
   "cell_type": "markdown",
   "metadata": {},
   "source": [
    "Finally, we need to tell BayesDB which values to treat as missing, `NULL`. Different datasets use different markers for missing data, this dataset uses `NaN`. To convert all instances of `NaN` to SQL `NULL`, we use the `nullify` utility, followed by the table, followed by the value to convert to `NULL`."
   ]
  },
  {
   "cell_type": "code",
   "execution_count": 36,
   "metadata": {
    "collapsed": false
   },
   "outputs": [
    {
     "name": "stdout",
     "output_type": "stream",
     "text": [
      "total number of rows    \"COUNT\"(*)\n",
      "0        7002\n",
      "before nullify\n",
      "NULL count    \"COUNT\"(*)\n",
      "0         646\n",
      "NaN count    \"COUNT\"(*)\n",
      "0        3230\n",
      "after nullify\n",
      "NULL count    \"COUNT\"(*)\n",
      "0         646\n",
      "NaN count    \"COUNT\"(*)\n",
      "0        3230\n"
     ]
    }
   ],
   "source": [
    "# TODO replace bql_utils with contrib_utils once fsaad is done\n",
    "print 'total number of rows', bql_utils.cursor_to_df(satellites_bdb.execute('SELECT COUNT(*) FROM satellites;'))\n",
    "print 'before nullify'\n",
    "print 'NULL count', bql_utils.cursor_to_df(satellites_bdb.execute('SELECT COUNT(*) FROM satellites WHERE type_of_orbit IS NULL;'))\n",
    "print 'NaN count', bql_utils.cursor_to_df(satellites_bdb.execute('SELECT COUNT(*) FROM satellites WHERE type_of_orbit IS NaN;'))\n",
    "general_utils.nullify(satellites_bdb, 'satellites', float('NaN'))\n",
    "print 'after nullify'\n",
    "print 'NULL count', bql_utils.cursor_to_df(satellites_bdb.execute('SELECT COUNT(*) FROM satellites WHERE type_of_orbit IS NULL;'))\n",
    "print 'NaN count', bql_utils.cursor_to_df(satellites_bdb.execute('SELECT COUNT(*) FROM satellites WHERE type_of_orbit IS NaN;'))\n",
    "# TODO strage... need to debug this."
   ]
  },
  {
   "cell_type": "markdown",
   "metadata": {},
   "source": [
    "First we will impute missing values of `type_of_orbit`. Let us see how many values are missing."
   ]
  },
  {
   "cell_type": "markdown",
   "metadata": {},
   "source": [
    "BELOW IN PROGRESS"
   ]
  },
  {
   "cell_type": "code",
   "execution_count": 37,
   "metadata": {
    "collapsed": false
   },
   "outputs": [
    {
     "ename": "NameError",
     "evalue": "name 'bu' is not defined",
     "output_type": "error",
     "traceback": [
      "\u001b[0;31m---------------------------------------------------------------------------\u001b[0m",
      "\u001b[0;31mNameError\u001b[0m                                 Traceback (most recent call last)",
      "\u001b[0;32m<ipython-input-37-e0228a614001>\u001b[0m in \u001b[0;36m<module>\u001b[0;34m()\u001b[0m\n\u001b[0;32m----> 1\u001b[0;31m \u001b[0;32mprint\u001b[0m \u001b[0mbu\u001b[0m\u001b[0;34m.\u001b[0m\u001b[0mcursor_to_df\u001b[0m\u001b[0;34m(\u001b[0m\u001b[0msatellites_bdb\u001b[0m\u001b[0;34m.\u001b[0m\u001b[0mexecute\u001b[0m\u001b[0;34m(\u001b[0m\u001b[0;34m'SELECT COUNT(*) FROM satellites WHERE type_of_orbit IS NULL;'\u001b[0m\u001b[0;34m)\u001b[0m\u001b[0;34m)\u001b[0m\u001b[0;34m\u001b[0m\u001b[0m\n\u001b[0m",
      "\u001b[0;31mNameError\u001b[0m: name 'bu' is not defined"
     ]
    }
   ],
   "source": [
    "print bu.cursor_to_df(satellites_bdb.execute('SELECT COUNT(*) FROM satellites WHERE type_of_orbit IS NULL;'))"
   ]
  },
  {
   "cell_type": "code",
   "execution_count": null,
   "metadata": {
    "collapsed": false
   },
   "outputs": [],
   "source": []
  },
  {
   "cell_type": "code",
   "execution_count": null,
   "metadata": {
    "collapsed": true
   },
   "outputs": [],
   "source": [
    "\n",
    "\n",
    "\n",
    "import bayeslite.guess\n",
    "import bayeslite.crosscat\n",
    "import crosscat\n",
    "import crosscat.LocalEngine\n",
    "from bdbcontrib.facade import do_query\n",
    "from bdbcontrib import plotutils\n",
    "from bdbcontrib import general_utils\n",
    "import matplotlib.pyplot as plt\n",
    "import seaborn as sns\n",
    "import pandas as pd\n",
    "\n",
    "# TODO: content taken from http://probcomp-4.csail.mit.edu/bayeslite/tutorials/satellites/satellites.bql"
   ]
  },
  {
   "cell_type": "markdown",
   "metadata": {},
   "source": []
  },
  {
   "cell_type": "code",
   "execution_count": null,
   "metadata": {
    "collapsed": false
   },
   "outputs": [],
   "source": []
  },
  {
   "cell_type": "markdown",
   "metadata": {},
   "source": [
    "Notice that `NaN` entires have been replaced with `None`, which is the way Python represents SQL `NULL`."
   ]
  },
  {
   "cell_type": "code",
   "execution_count": null,
   "metadata": {
    "collapsed": false
   },
   "outputs": [],
   "source": [
    "c = len(df.columns)*4\n",
    "\n",
    "fig = plt.figure(tight_layout=True, figsize=(c, c))\n",
    "gs = plotutils.pairplot(df, bdb=satellites_bdb, generator_name='satellites_cc',\n",
    "                        use_shortname=None, show_contour=False,\n",
    "                        colorby=None, show_missing=True, show_full=False)\n",
    "plt.close('all')\n",
    "# use plt.show() to open a separate window where you won't get a warning about tight_layout, \n",
    "# and you will have larger plots to look at.\n",
    "fig"
   ]
  },
  {
   "cell_type": "code",
   "execution_count": null,
   "metadata": {
    "collapsed": false
   },
   "outputs": [],
   "source": [
    "for row in satellites_bdb.execute(\"SELECT Name, dry_mass_kg FROM satellites LIMIT 10;\"):\n",
    "    print row"
   ]
  },
  {
   "cell_type": "code",
   "execution_count": null,
   "metadata": {
    "collapsed": true
   },
   "outputs": [],
   "source": []
  }
 ],
 "metadata": {
  "kernelspec": {
   "display_name": "Python 2",
   "language": "python",
   "name": "python2"
  },
  "language_info": {
   "codemirror_mode": {
    "name": "ipython",
    "version": 2
   },
   "file_extension": ".py",
   "mimetype": "text/x-python",
   "name": "python",
   "nbconvert_exporter": "python",
   "pygments_lexer": "ipython2",
   "version": "2.7.9"
  }
 },
 "nbformat": 4,
 "nbformat_minor": 0
}
