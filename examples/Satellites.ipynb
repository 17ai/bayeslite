{
 "cells": [
  {
   "cell_type": "code",
   "execution_count": 1,
   "metadata": {
    "collapsed": false
   },
   "outputs": [],
   "source": [
    "# TODO remove\n",
    "import sys\n",
    "sys.path.append('/Applications/BayesDB-bayes0.1.dev20150727-262-g5df8e0c.app/Contents/MacOS/venv/lib/python2.7/site-packages')\n",
    "\n",
    "# --- The APIs that are being highlighed ---\n",
    "\n",
    "# the main API for loading / saving tables, running BQL queries, returns cursor objects\n",
    "import bayeslite\n",
    "\n",
    "# pretty printing tables to screen (can take cursors as input)\n",
    "import bayeslite.shell.pretty as pretty\n",
    "\n",
    "# plotting\n",
    "from bdbcontrib import plotutils\n",
    "# TODO once fsaad is done use instead: from bdbcontrib import contrib_plot\n",
    "# importing contrib_plot currently fails with 'No current shell!' error.\n",
    "\n",
    "# ipython notebook will generate plots inline given a fig object.\n",
    "import matplotlib.pyplot as plt\n",
    "%matplotlib inline\n",
    "\n",
    "# other utilities\n",
    "from bdbcontrib import general_utils # conttains???\n",
    "from bdbcontrib import bql_utils  # contains cursor_to_df\n",
    "# TODO once fsaad is done use instead: from bdbcontrib import contrib_util\n",
    "# importing general_utils currently fails with 'No current shell!' error."
   ]
  },
  {
   "cell_type": "markdown",
   "metadata": {},
   "source": [
    "Introduction\n",
    "=====\n",
    "In this example we will explore the core functionality of BayesDB by using BayesDB to explore and analyze some real data. The data we will use is the Union of Concerned Scientists' Satellites data. The data is a catalogue of satellites. Each row of the data represents a satellite and each column is a feature of that satellite such as dry mass, orbit type, launch date, perigee, etc."
   ]
  },
  {
   "cell_type": "markdown",
   "metadata": {},
   "source": [
    "Loading the Bayesian Database\n",
    "=====\n",
    "The first thing to do is to open our Bayesian database that contains the Bayesian model of the satellites data. This database resides on disk in the form of a `.bdb` file."
   ]
  },
  {
   "cell_type": "code",
   "execution_count": 2,
   "metadata": {
    "collapsed": true
   },
   "outputs": [],
   "source": [
    "satellites_bdb = bayeslite.bayesdb_open(\"satellites.bdb\")"
   ]
  },
  {
   "cell_type": "markdown",
   "metadata": {},
   "source": [
    "This database contains one table, named `satellites`. We also associate the Bayesian data model with the original raw data, which are in csv format with a header containing the column names."
   ]
  },
  {
   "cell_type": "code",
   "execution_count": 3,
   "metadata": {
    "collapsed": false
   },
   "outputs": [],
   "source": [
    "bayeslite.bayesdb_read_csv_file(satellites_bdb, \"satellites\", \"satellites.utf8.csv\", \n",
    "                                header=True, create=True, ifnotexists=True)"
   ]
  },
  {
   "cell_type": "markdown",
   "metadata": {},
   "source": [
    "Before you can use BQL modelling for your data, you must use register a metamodel, such as the Crosscat metamodel with which the `.bdb` file was built."
   ]
  },
  {
   "cell_type": "code",
   "execution_count": 4,
   "metadata": {
    "collapsed": false
   },
   "outputs": [
    {
     "ename": "BQLError",
     "evalue": "Name already defined as generator: 'satellites_cc'",
     "output_type": "error",
     "traceback": [
      "\u001b[0;31m---------------------------------------------------------------------------\u001b[0m",
      "\u001b[0;31mBQLError\u001b[0m                                  Traceback (most recent call last)",
      "\u001b[0;32m<ipython-input-4-00590c3b91e9>\u001b[0m in \u001b[0;36m<module>\u001b[0;34m()\u001b[0m\n\u001b[1;32m      4\u001b[0m \u001b[0mcrosscat_metamodel\u001b[0m \u001b[0;34m=\u001b[0m \u001b[0mbayeslite\u001b[0m\u001b[0;34m.\u001b[0m\u001b[0mcrosscat\u001b[0m\u001b[0;34m.\u001b[0m\u001b[0mCrosscatMetamodel\u001b[0m\u001b[0;34m(\u001b[0m\u001b[0mcrosscat_engine\u001b[0m\u001b[0;34m)\u001b[0m\u001b[0;34m\u001b[0m\u001b[0m\n\u001b[1;32m      5\u001b[0m \u001b[0mbayeslite\u001b[0m\u001b[0;34m.\u001b[0m\u001b[0mbayesdb_register_metamodel\u001b[0m\u001b[0;34m(\u001b[0m\u001b[0msatellites_bdb\u001b[0m\u001b[0;34m,\u001b[0m \u001b[0mcrosscat_metamodel\u001b[0m\u001b[0;34m)\u001b[0m\u001b[0;34m\u001b[0m\u001b[0m\n\u001b[0;32m----> 6\u001b[0;31m \u001b[0msatellites_bdb\u001b[0m\u001b[0;34m.\u001b[0m\u001b[0mexecute\u001b[0m\u001b[0;34m(\u001b[0m\u001b[0;34m'create generator satellites_cc for satellites using crosscat(guess(*))'\u001b[0m\u001b[0;34m)\u001b[0m\u001b[0;34m\u001b[0m\u001b[0m\n\u001b[0m\u001b[1;32m      7\u001b[0m \u001b[0msatellites_bdb\u001b[0m\u001b[0;34m.\u001b[0m\u001b[0mexecute\u001b[0m\u001b[0;34m(\u001b[0m\u001b[0;34m'initialize 10 models for satellites_cc'\u001b[0m\u001b[0;34m)\u001b[0m\u001b[0;34m\u001b[0m\u001b[0m\n\u001b[1;32m      8\u001b[0m \u001b[0msatellites_bdb\u001b[0m\u001b[0;34m.\u001b[0m\u001b[0mexecute\u001b[0m\u001b[0;34m(\u001b[0m\u001b[0;34m'analyze satellites_cc for 10 iterations wait'\u001b[0m\u001b[0;34m)\u001b[0m\u001b[0;34m\u001b[0m\u001b[0m\n",
      "\u001b[0;32m/usr/local/Cellar/python/2.7.9/Frameworks/Python.framework/Versions/2.7/lib/python2.7/site-packages/bayeslite-0.1.dev20150727_257_g978f787-py2.7.egg/bayeslite/bayesdb.pyc\u001b[0m in \u001b[0;36mexecute\u001b[0;34m(self, string, bindings)\u001b[0m\n\u001b[1;32m    147\u001b[0m         \u001b[0;32melse\u001b[0m\u001b[0;34m:\u001b[0m\u001b[0;34m\u001b[0m\u001b[0m\n\u001b[1;32m    148\u001b[0m             \u001b[0;32mraise\u001b[0m \u001b[0mValueError\u001b[0m\u001b[0;34m(\u001b[0m\u001b[0;34m'>1 phrase in string'\u001b[0m\u001b[0;34m)\u001b[0m\u001b[0;34m\u001b[0m\u001b[0m\n\u001b[0;32m--> 149\u001b[0;31m         \u001b[0;32mreturn\u001b[0m \u001b[0mbql\u001b[0m\u001b[0;34m.\u001b[0m\u001b[0mexecute_phrase\u001b[0m\u001b[0;34m(\u001b[0m\u001b[0mself\u001b[0m\u001b[0;34m,\u001b[0m \u001b[0mphrase\u001b[0m\u001b[0;34m,\u001b[0m \u001b[0mbindings\u001b[0m\u001b[0;34m)\u001b[0m\u001b[0;34m\u001b[0m\u001b[0m\n\u001b[0m\u001b[1;32m    150\u001b[0m \u001b[0;34m\u001b[0m\u001b[0m\n\u001b[1;32m    151\u001b[0m     \u001b[0;32mdef\u001b[0m \u001b[0msql_execute\u001b[0m\u001b[0;34m(\u001b[0m\u001b[0mself\u001b[0m\u001b[0;34m,\u001b[0m \u001b[0mstring\u001b[0m\u001b[0;34m,\u001b[0m \u001b[0mbindings\u001b[0m\u001b[0;34m=\u001b[0m\u001b[0mNone\u001b[0m\u001b[0;34m)\u001b[0m\u001b[0;34m:\u001b[0m\u001b[0;34m\u001b[0m\u001b[0m\n",
      "\u001b[0;32m/usr/local/Cellar/python/2.7.9/Frameworks/Python.framework/Versions/2.7/lib/python2.7/site-packages/bayeslite-0.1.dev20150727_257_g978f787-py2.7.egg/bayeslite/bql.pyc\u001b[0m in \u001b[0;36mexecute_phrase\u001b[0;34m(bdb, phrase, bindings)\u001b[0m\n\u001b[1;32m    313\u001b[0m                     default=phrase.default)\n\u001b[1;32m    314\u001b[0m             metamodel.create_generator(bdb, phrase.table, phrase.schema,\n\u001b[0;32m--> 315\u001b[0;31m                 instantiate)\n\u001b[0m\u001b[1;32m    316\u001b[0m \u001b[0;34m\u001b[0m\u001b[0m\n\u001b[1;32m    317\u001b[0m         \u001b[0;31m# All done.  Nothing to return.\u001b[0m\u001b[0;34m\u001b[0m\u001b[0;34m\u001b[0m\u001b[0m\n",
      "\u001b[0;32m/usr/local/Cellar/python/2.7.9/Frameworks/Python.framework/Versions/2.7/lib/python2.7/site-packages/bayeslite-0.1.dev20150727_257_g978f787-py2.7.egg/bayeslite/crosscat.pyc\u001b[0m in \u001b[0;36mcreate_generator\u001b[0;34m(self, bdb, table, schema, instantiate)\u001b[0m\n\u001b[1;32m    594\u001b[0m             \u001b[0;31m# Create the metamodel-independent records and assign a\u001b[0m\u001b[0;34m\u001b[0m\u001b[0;34m\u001b[0m\u001b[0m\n\u001b[1;32m    595\u001b[0m             \u001b[0;31m# generator id.\u001b[0m\u001b[0;34m\u001b[0m\u001b[0;34m\u001b[0m\u001b[0m\n\u001b[0;32m--> 596\u001b[0;31m             \u001b[0mgenerator_id\u001b[0m\u001b[0;34m,\u001b[0m \u001b[0mcolumn_list\u001b[0m \u001b[0;34m=\u001b[0m \u001b[0minstantiate\u001b[0m\u001b[0;34m(\u001b[0m\u001b[0mcolumns\u001b[0m\u001b[0;34m)\u001b[0m\u001b[0;34m\u001b[0m\u001b[0m\n\u001b[0m\u001b[1;32m    597\u001b[0m \u001b[0;34m\u001b[0m\u001b[0m\n\u001b[1;32m    598\u001b[0m             \u001b[0;31m# Install the metadata json blob.\u001b[0m\u001b[0;34m\u001b[0m\u001b[0;34m\u001b[0m\u001b[0m\n",
      "\u001b[0;32m/usr/local/Cellar/python/2.7.9/Frameworks/Python.framework/Versions/2.7/lib/python2.7/site-packages/bayeslite-0.1.dev20150727_257_g978f787-py2.7.egg/bayeslite/bql.pyc\u001b[0m in \u001b[0;36minstantiate\u001b[0;34m(columns)\u001b[0m\n\u001b[1;32m    311\u001b[0m                     \u001b[0mmetamodel\u001b[0m\u001b[0;34m,\u001b[0m \u001b[0mcolumns\u001b[0m\u001b[0;34m,\u001b[0m\u001b[0;34m\u001b[0m\u001b[0m\n\u001b[1;32m    312\u001b[0m                     \u001b[0mifnotexists\u001b[0m\u001b[0;34m=\u001b[0m\u001b[0mphrase\u001b[0m\u001b[0;34m.\u001b[0m\u001b[0mifnotexists\u001b[0m\u001b[0;34m,\u001b[0m\u001b[0;34m\u001b[0m\u001b[0m\n\u001b[0;32m--> 313\u001b[0;31m                     default=phrase.default)\n\u001b[0m\u001b[1;32m    314\u001b[0m             metamodel.create_generator(bdb, phrase.table, phrase.schema,\n\u001b[1;32m    315\u001b[0m                 instantiate)\n",
      "\u001b[0;32m/usr/local/Cellar/python/2.7.9/Frameworks/Python.framework/Versions/2.7/lib/python2.7/site-packages/bayeslite-0.1.dev20150727_257_g978f787-py2.7.egg/bayeslite/bql.pyc\u001b[0m in \u001b[0;36minstantiate_generator\u001b[0;34m(bdb, gen_name, table, metamodel, columns, ifnotexists, default)\u001b[0m\n\u001b[1;32m    519\u001b[0m     \u001b[0;32mif\u001b[0m \u001b[0;32mnot\u001b[0m \u001b[0mifnotexists\u001b[0m \u001b[0;32mand\u001b[0m \u001b[0mcore\u001b[0m\u001b[0;34m.\u001b[0m\u001b[0mbayesdb_has_generator\u001b[0m\u001b[0;34m(\u001b[0m\u001b[0mbdb\u001b[0m\u001b[0;34m,\u001b[0m \u001b[0mgen_name\u001b[0m\u001b[0;34m)\u001b[0m\u001b[0;34m:\u001b[0m\u001b[0;34m\u001b[0m\u001b[0m\n\u001b[1;32m    520\u001b[0m         raise BQLError(bdb, 'Name already defined as generator: %s' %\n\u001b[0;32m--> 521\u001b[0;31m             (repr(gen_name),))\n\u001b[0m\u001b[1;32m    522\u001b[0m \u001b[0;34m\u001b[0m\u001b[0m\n\u001b[1;32m    523\u001b[0m     \u001b[0;31m# Make sure the bayesdb_column table knows all the columns.\u001b[0m\u001b[0;34m\u001b[0m\u001b[0;34m\u001b[0m\u001b[0m\n",
      "\u001b[0;31mBQLError\u001b[0m: Name already defined as generator: 'satellites_cc'"
     ]
    }
   ],
   "source": [
    "import crosscat.LocalEngine\n",
    "import bayeslite.crosscat\n",
    "crosscat_engine = crosscat.LocalEngine.LocalEngine(seed=0)\n",
    "crosscat_metamodel = bayeslite.crosscat.CrosscatMetamodel(crosscat_engine)\n",
    "bayeslite.bayesdb_register_metamodel(satellites_bdb, crosscat_metamodel)\n",
    "for x in satellites_bdb.execute('estimate pairwise dependence probablity from satellites_cc'):\n",
    "    print x"
   ]
  },
  {
   "cell_type": "markdown",
   "metadata": {},
   "source": [
    "We also register a generator that uses heuristics to guess the types of columns."
   ]
  },
  {
   "cell_type": "code",
   "execution_count": null,
   "metadata": {
    "collapsed": false
   },
   "outputs": [],
   "source": [
    "generator = bayeslite.guess.bayesdb_guess_generator(satellites_bdb, 'satellites_cc', 'satellites', 'crosscat', \n",
    "                                                    ifnotexists=True)"
   ]
  },
  {
   "cell_type": "markdown",
   "metadata": {},
   "source": [
    "TODO We can see how well the system guess the types of our columns by using the `.describe command."
   ]
  },
  {
   "cell_type": "markdown",
   "metadata": {
    "collapsed": true
   },
   "source": [
    "Standard Database Functionality\n",
    "====\n",
    "We can use a SQLite command to list the columns in the table."
   ]
  },
  {
   "cell_type": "code",
   "execution_count": null,
   "metadata": {
    "collapsed": false
   },
   "outputs": [],
   "source": [
    "pretty.pp_cursor(sys.stdout, satellites_bdb.sql_execute('PRAGMA table_info(satellites)'))"
   ]
  },
  {
   "cell_type": "markdown",
   "metadata": {},
   "source": [
    "We can select data just as we would in SQL in BQL:"
   ]
  },
  {
   "cell_type": "code",
   "execution_count": null,
   "metadata": {
    "collapsed": false,
    "scrolled": false
   },
   "outputs": [],
   "source": [
    "pretty.pp_cursor(sys.stdout, satellites_bdb.execute(\n",
    "        'SELECT name, dry_mass_kg, period_minutes, class_of_orbit FROM satellites LIMIT 10;'))\n",
    "# TODO beautify"
   ]
  },
  {
   "cell_type": "markdown",
   "metadata": {},
   "source": [
    "Visualizing the Data\n",
    "====="
   ]
  },
  {
   "cell_type": "markdown",
   "metadata": {},
   "source": [
    "We can also use visualization tools packaged with BayesDB. In the next example, the first argument `dry_mass_kg` is a `NUMERICAL` variable and its conditional distribution is plotted for each value of the categorical variable `class_of_orbit`, alongside the marginal distributions."
   ]
  },
  {
   "cell_type": "code",
   "execution_count": null,
   "metadata": {
    "collapsed": false
   },
   "outputs": [],
   "source": [
    "# print some of the data before it gets plotted\n",
    "pretty.pp_cursor(sys.stdout, satellites_bdb.execute(\n",
    "        'SELECT dry_mass_kg, class_of_orbit FROM satellites LIMIT 10'))\n",
    "\n",
    "# TODO once fsaad is done, we won't need the dataframe\n",
    "# (the plotting will take the BQL command itself)\n",
    "df = bql_utils.cursor_to_df(satellites_bdb.execute(\n",
    "        'SELECT dry_mass_kg, class_of_orbit FROM satellites'))\n",
    "c = len(df.columns)*4\n",
    "fig = plt.figure(tight_layout=True, figsize=(c, c))\n",
    "gs = plotutils.pairplot(df, bdb=satellites_bdb, generator_name='satellites_cc',\n",
    "                        use_shortname=None, show_contour=False,\n",
    "                        colorby=None, show_missing=True, show_full=False)\n",
    "plt.show()\n",
    "\n",
    "# TODO this generates a warning message about tight_layout\n",
    "# TODO The categorical variable marginal bar plot should be tranposed\n",
    "# so it is aligned with the joint plot."
   ]
  },
  {
   "cell_type": "markdown",
   "metadata": {},
   "source": [
    "Inferring Missing Data\n",
    "=====\n",
    "Inferring is like imputing. `INFER` produces a summary value for a missing (`NULL`) entry. If we use the `EXPLICIT` keyword, we can re-infer present values."
   ]
  },
  {
   "cell_type": "markdown",
   "metadata": {},
   "source": [
    "Finally, we need to tell BayesDB which values to treat as missing, `NULL`. Different datasets use different markers for missing data, this dataset uses `NaN`. To convert all instances of `NaN` to SQL `NULL`, we use the `nullify` utility, followed by the table, followed by the value to convert to `NULL`."
   ]
  },
  {
   "cell_type": "code",
   "execution_count": null,
   "metadata": {
    "collapsed": false
   },
   "outputs": [],
   "source": [
    "# TODO replace bql_utils with contrib_utils once fsaad is done\n",
    "print 'total number of rows', bql_utils.cursor_to_df(satellites_bdb.execute('SELECT COUNT(*) FROM satellites;'))\n",
    "print 'before nullify'\n",
    "print 'NULL count', bql_utils.cursor_to_df(satellites_bdb.execute('SELECT COUNT(*) FROM satellites WHERE type_of_orbit IS NULL;'))\n",
    "print 'NaN count', bql_utils.cursor_to_df(satellites_bdb.execute('SELECT COUNT(*) FROM satellites WHERE type_of_orbit IS NaN;'))\n",
    "general_utils.nullify(satellites_bdb, 'satellites', float('NaN'))\n",
    "print 'after nullify'\n",
    "print 'NULL count', bql_utils.cursor_to_df(satellites_bdb.execute('SELECT COUNT(*) FROM satellites WHERE type_of_orbit IS NULL;'))\n",
    "print 'NaN count', bql_utils.cursor_to_df(satellites_bdb.execute('SELECT COUNT(*) FROM satellites WHERE type_of_orbit IS NaN;'))\n",
    "# TODO strage... need to debug this."
   ]
  },
  {
   "cell_type": "markdown",
   "metadata": {},
   "source": [
    "First we will impute missing values of `type_of_orbit`. Let us see how many values are missing."
   ]
  },
  {
   "cell_type": "code",
   "execution_count": null,
   "metadata": {
    "collapsed": false
   },
   "outputs": [],
   "source": [
    "pretty.pp_cursor(sys.stdout, satellites_bdb.execute('SELECT COUNT(*) FROM satellites WHERE type_of_orbit IS NULL;'))"
   ]
  },
  {
   "cell_type": "markdown",
   "metadata": {},
   "source": [
    "We will use the `INFER EXPLICIT` query to impute all missing values, and let BayesDB tell us the belief of its reported value. First we will pull out `anticipated_lifetime`, `perigee_km`, `period_minutes`, and `class_of_orbit` exactly as they appear in the table. Next we will use the special BQL expression `PREDICT <col_name> CONFIDENCE <conf_name>`, which will retrun two values: first, a prediction for `<col_name>` and second a confidence level for the predicted value."
   ]
  },
  {
   "cell_type": "code",
   "execution_count": null,
   "metadata": {
    "collapsed": false
   },
   "outputs": [],
   "source": [
    "#pretty.pp_cursor(sys.stdout, satellites_bdb.execute('INFER EXPLICIT type_of_orbit WITH CONFIDENCE from satellites_cc WHERE type_of_orbit IS NULL'))\n",
    "#pretty.pp_cursor(sys.stdout, satellites_bdb.execute('INFER type_of_orbit from satellites_cc'))"
   ]
  },
  {
   "cell_type": "code",
   "execution_count": null,
   "metadata": {
    "collapsed": false
   },
   "outputs": [],
   "source": [
    "pretty.pp_cursor(sys.stdout, satellites_bdb.execute('ESTIMATE DEPENDENCE PROBABILITY of period_minutes WITH period_minutes from satellites_cc'))"
   ]
  },
  {
   "cell_type": "code",
   "execution_count": null,
   "metadata": {
    "collapsed": false
   },
   "outputs": [],
   "source": [
    "satellites_bdb.execute('INFER EXPLICIT anticipated_lifetime, class_of_orbit, PREDICT type_of_orbit AS inferred_orbit_type CONFIDENCE inferred_orbit_type_conf FROM satellites_cc WHERE type_of_orbit IS NULL;')"
   ]
  },
  {
   "cell_type": "code",
   "execution_count": null,
   "metadata": {
    "collapsed": false
   },
   "outputs": [],
   "source": [
    "pretty.pp_cursor(sys.stdout, satellites_bdb.execute('''\n",
    "CREATE TEMP TABLE inferred_orbit AS INFER EXPLICIT\n",
    "        anticipated_lifetime, perigee_km, period_minutes, class_of_orbit,\n",
    "        PREDICT type_of_orbit AS inferred_orbit_type\n",
    "            CONFIDENCE inferred_orbit_type_conf\n",
    "    FROM satellites_cc\n",
    "    WHERE type_of_orbit IS NULL;'''))"
   ]
  },
  {
   "cell_type": "code",
   "execution_count": null,
   "metadata": {
    "collapsed": true
   },
   "outputs": [],
   "source": [
    "\n",
    "\n",
    "\n",
    "import bayeslite.guess\n",
    "import bayeslite.crosscat\n",
    "import crosscat\n",
    "import crosscat.LocalEngine\n",
    "from bdbcontrib.facade import do_query\n",
    "from bdbcontrib import plotutils\n",
    "from bdbcontrib import general_utils\n",
    "import matplotlib.pyplot as plt\n",
    "import seaborn as sns\n",
    "import pandas as pd\n",
    "\n",
    "# TODO: content taken from http://probcomp-4.csail.mit.edu/bayeslite/tutorials/satellites/satellites.bql"
   ]
  },
  {
   "cell_type": "markdown",
   "metadata": {},
   "source": []
  },
  {
   "cell_type": "code",
   "execution_count": null,
   "metadata": {
    "collapsed": false
   },
   "outputs": [],
   "source": []
  },
  {
   "cell_type": "markdown",
   "metadata": {},
   "source": [
    "Notice that `NaN` entires have been replaced with `None`, which is the way Python represents SQL `NULL`."
   ]
  },
  {
   "cell_type": "code",
   "execution_count": null,
   "metadata": {
    "collapsed": false
   },
   "outputs": [],
   "source": [
    "c = len(df.columns)*4\n",
    "\n",
    "fig = plt.figure(tight_layout=True, figsize=(c, c))\n",
    "gs = plotutils.pairplot(df, bdb=satellites_bdb, generator_name='satellites_cc',\n",
    "                        use_shortname=None, show_contour=False,\n",
    "                        colorby=None, show_missing=True, show_full=False)\n",
    "plt.close('all')\n",
    "# use plt.show() to open a separate window where you won't get a warning about tight_layout, \n",
    "# and you will have larger plots to look at.\n",
    "fig"
   ]
  },
  {
   "cell_type": "code",
   "execution_count": null,
   "metadata": {
    "collapsed": false
   },
   "outputs": [],
   "source": [
    "for row in satellites_bdb.execute(\"SELECT Name, dry_mass_kg FROM satellites LIMIT 10;\"):\n",
    "    print row"
   ]
  },
  {
   "cell_type": "code",
   "execution_count": null,
   "metadata": {
    "collapsed": true
   },
   "outputs": [],
   "source": []
  }
 ],
 "metadata": {
  "kernelspec": {
   "display_name": "Python 2",
   "language": "python",
   "name": "python2"
  },
  "language_info": {
   "codemirror_mode": {
    "name": "ipython",
    "version": 2
   },
   "file_extension": ".py",
   "mimetype": "text/x-python",
   "name": "python",
   "nbconvert_exporter": "python",
   "pygments_lexer": "ipython2",
   "version": "2.7.9"
  }
 },
 "nbformat": 4,
 "nbformat_minor": 0
}
