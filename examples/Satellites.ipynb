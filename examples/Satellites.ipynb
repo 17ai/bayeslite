{
 "cells": [
  {
   "cell_type": "code",
   "execution_count": 1,
   "metadata": {
    "collapsed": false,
    "scrolled": true
   },
   "outputs": [],
   "source": [
    "# TODO remove\n",
    "import sys\n",
    "\n",
    "# --- The APIs that are being highlighed ---\n",
    "\n",
    "# the main API for loading / saving tables, running BQL queries, returns cursor objects\n",
    "import bayeslite\n",
    "\n",
    "# pretty printing tables to screen (can take cursors as input)\n",
    "import bayeslite.shell.pretty as pretty\n",
    "\n",
    "# plotting\n",
    "from bdbcontrib import plotutils\n",
    "# TODO once fsaad is done use instead: from bdbcontrib import contrib_plot\n",
    "# importing contrib_plot currently fails with 'No current shell!' error.\n",
    "\n",
    "# ipython notebook will generate plots inline given a fig object.\n",
    "import matplotlib.pyplot as plt\n",
    "%matplotlib inline\n",
    "\n",
    "# other utilities\n",
    "from bdbcontrib import general_utils # conttains???\n",
    "from bdbcontrib import bql_utils  # contains cursor_to_df\n",
    "# TODO once fsaad is done use instead: from bdbcontrib import contrib_util\n",
    "# importing general_utils currently fails with 'No current shell!' error."
   ]
  },
  {
   "cell_type": "markdown",
   "metadata": {},
   "source": [
    "Introduction\n",
    "=====\n",
    "In this example we will explore the core functionality of BayesDB by using BayesDB to explore and analyze some real data. The data we will use is the Union of Concerned Scientists' Satellites data. The data is a catalogue of satellites. Each row of the data represents a satellite and each column is a feature of that satellite such as dry mass, orbit type, launch date, perigee, etc."
   ]
  },
  {
   "cell_type": "markdown",
   "metadata": {},
   "source": [
    "Loading the Bayesian Database\n",
    "=====\n",
    "We first open our Bayesian database that contains the Bayesian model of the satellites data. This database resides on disk in the form of a `.bdb` file."
   ]
  },
  {
   "cell_type": "code",
   "execution_count": 2,
   "metadata": {
    "collapsed": false
   },
   "outputs": [
    {
     "data": {
      "text/plain": [
       "<sqlite3.Cursor at 0x109f04f80>"
      ]
     },
     "execution_count": 2,
     "metadata": {},
     "output_type": "execute_result"
    }
   ],
   "source": [
    "satellites_bdb = bayeslite.bayesdb_open(pathname='satellites4.bdb')\n",
    "bayeslite.bayesdb_read_csv_file(satellites_bdb, \"satellites\", \"satellites.utf8.csv\", \n",
    "                                header=True, create=True, ifnotexists=True)\n",
    "\n",
    "import crosscat.LocalEngine\n",
    "import bayeslite.crosscat\n",
    "crosscat_engine = crosscat.LocalEngine.LocalEngine(seed=0)\n",
    "crosscat_metamodel = bayeslite.crosscat.CrosscatMetamodel(crosscat_engine)\n",
    "bayeslite.bayesdb_register_metamodel(satellites_bdb, crosscat_metamodel)\n",
    "\n",
    "# TODO load from .bdb instead\n",
    "satellites_bdb.execute('create generator satellites_cc for satellites using crosscat(guess(*))')\n",
    "satellites_bdb.execute('initialize 4 models for satellites_cc')\n",
    "satellites_bdb.execute('analyze satellites_cc for 2 iterations wait')"
   ]
  },
  {
   "cell_type": "code",
   "execution_count": 15,
   "metadata": {
    "collapsed": false
   },
   "outputs": [
    {
     "name": "stdout",
     "output_type": "stream",
     "text": [
      "id |          name |    tabname | metamodel | defaultp\n",
      "---+---------------+------------+-----------+---------\n",
      " 1 | satellites_cc | satellites |  crosscat |        0\n",
      "   tabname | colno |                         name | shortname | description\n",
      "-----------+-------+------------------------------+-----------+------------\n",
      "satellites |     0 |                         Name |      None |        None\n",
      "satellites |     1 |          Country_of_Operator |      None |        None\n",
      "satellites |     2 |               Operator_Owner |      None |        None\n",
      "satellites |     3 |                        Users |      None |        None\n",
      "satellites |     4 |                      Purpose |      None |        None\n",
      "satellites |     5 |               Class_of_Orbit |      None |        None\n",
      "satellites |     6 |                Type_of_Orbit |      None |        None\n",
      "satellites |     7 |                   Perigee_km |      None |        None\n",
      "satellites |     8 |                    Apogee_km |      None |        None\n",
      "satellites |     9 |                 Eccentricity |      None |        None\n",
      "satellites |    10 |               Period_minutes |      None |        None\n",
      "satellites |    11 |               Launch_Mass_kg |      None |        None\n",
      "satellites |    12 |                  Dry_Mass_kg |      None |        None\n",
      "satellites |    13 |                  Power_watts |      None |        None\n",
      "satellites |    14 |               Date_of_Launch |      None |        None\n",
      "satellites |    15 |         Anticipated_Lifetime |      None |        None\n",
      "satellites |    16 |                   Contractor |      None |        None\n",
      "satellites |    17 |        Country_of_Contractor |      None |        None\n",
      "satellites |    18 |                  Launch_Site |      None |        None\n",
      "satellites |    19 |               Launch_Vehicle |      None |        None\n",
      "satellites |    20 | Source_Used_for_Orbital_Data |      None |        None\n",
      "satellites |    21 |     longitude_radians_of_geo |      None |        None\n",
      "satellites |    22 |          Inclination_radians |      None |        None\n",
      "generator_id | colno |    stattype\n",
      "-------------+-------+------------\n",
      "           1 |     0 | categorical\n",
      "           1 |     1 | categorical\n",
      "           1 |     2 | categorical\n",
      "           1 |     3 | categorical\n",
      "           1 |     4 | categorical\n",
      "           1 |     5 | categorical\n",
      "           1 |     6 | categorical\n",
      "           1 |     7 |   numerical\n",
      "           1 |     8 |   numerical\n",
      "           1 |     9 |   numerical\n",
      "           1 |    10 |   numerical\n",
      "           1 |    11 |   numerical\n",
      "           1 |    12 |   numerical\n",
      "           1 |    13 |   numerical\n",
      "           1 |    14 |   numerical\n",
      "           1 |    15 |   numerical\n",
      "           1 |    16 | categorical\n",
      "           1 |    17 | categorical\n",
      "           1 |    18 | categorical\n",
      "           1 |    19 | categorical\n",
      "           1 |    20 | categorical\n",
      "           1 |    21 |   numerical\n",
      "           1 |    22 |   numerical\n"
     ]
    }
   ],
   "source": [
    "pretty.pp_cursor(sys.stdout, satellites_bdb.execute('''\n",
    "SELECT * from bayesdb_generator\n",
    "'''))\n",
    "pretty.pp_cursor(sys.stdout, satellites_bdb.execute('''\n",
    "SELECT * from bayesdb_column\n",
    "'''))\n",
    "pretty.pp_cursor(sys.stdout, satellites_bdb.execute('''\n",
    "SELECT * from bayesdb_generator_column\n",
    "'''))\n",
    "#pretty.pp_cursor(sys.stdout, satellites_bdb.sql_execute('PRAGMA table_info(satellites)'))"
   ]
  },
  {
   "cell_type": "code",
   "execution_count": null,
   "metadata": {
    "collapsed": false
   },
   "outputs": [],
   "source": [
    "satellites_bdb = bayeslite.bayesdb_open(\"satellites.bdb\")"
   ]
  },
  {
   "cell_type": "markdown",
   "metadata": {},
   "source": [
    "This database contains a BayesDB table named `satellites`. We this table with the original raw data, which are in csv format with a header containing the column names."
   ]
  },
  {
   "cell_type": "code",
   "execution_count": null,
   "metadata": {
    "collapsed": false
   },
   "outputs": [],
   "source": []
  },
  {
   "cell_type": "markdown",
   "metadata": {},
   "source": [
    "We also register a generator that uses heuristics to guess the types of columns."
   ]
  },
  {
   "cell_type": "code",
   "execution_count": null,
   "metadata": {
    "collapsed": false
   },
   "outputs": [],
   "source": [
    "import bayeslite.guess\n",
    "generator = bayeslite.guess.bayesdb_guess_generator(satellites_bdb, 'satellites_cc', 'satellites', 'crosscat', \n",
    "                                                    ifnotexists=False)"
   ]
  },
  {
   "cell_type": "markdown",
   "metadata": {},
   "source": [
    "We can use a SQLite command to list the columns in the table. We can observe how well the heuristic guessed the types of the columns."
   ]
  },
  {
   "cell_type": "code",
   "execution_count": null,
   "metadata": {
    "collapsed": false
   },
   "outputs": [],
   "source": [
    "pretty.pp_cursor(sys.stdout, satellites_bdb.sql_execute('PRAGMA table_info(satellites)'))"
   ]
  },
  {
   "cell_type": "markdown",
   "metadata": {},
   "source": [
    "Bayesian Modeling\n",
    "===="
   ]
  },
  {
   "cell_type": "markdown",
   "metadata": {},
   "source": [
    "Before you can use BQL modelling for your data, you must use register a metamodel, such as the Crosscat metamodel with which the `.bdb` file was built."
   ]
  },
  {
   "cell_type": "code",
   "execution_count": null,
   "metadata": {
    "collapsed": false
   },
   "outputs": [],
   "source": []
  },
  {
   "cell_type": "code",
   "execution_count": 7,
   "metadata": {
    "collapsed": false
   },
   "outputs": [
    {
     "name": "stdout",
     "output_type": "stream",
     "text": [
      "cid |             name |    type | notnull | dflt_value | pk\n",
      "----+------------------+---------+---------+------------+---\n",
      "  0 |     generator_id | INTEGER |       1 |       None |  1\n",
      "  1 |          modelno | INTEGER |       1 |       None |  2\n",
      "  2 |       checkpoint | INTEGER |       1 |       None |  3\n",
      "  3 |         logscore |    REAL |       1 |       None |  0\n",
      "  4 |        num_views | INTEGER |       1 |       None |  0\n",
      "  5 | column_crp_alpha |    REAL |       1 |       None |  0\n",
      "  6 |       iterations | INTEGER |       0 |       None |  0\n"
     ]
    }
   ],
   "source": [
    "# TEMP: list the set of columns in the bayesdb_crosscat_diagnostics table (out of curiosity)\n",
    "pretty.pp_cursor(sys.stdout, satellites_bdb.sql_execute('PRAGMA table_info(bayesdb_crosscat_diagnostics)'))"
   ]
  },
  {
   "cell_type": "code",
   "execution_count": 4,
   "metadata": {
    "collapsed": false
   },
   "outputs": [
    {
     "name": "stdout",
     "output_type": "stream",
     "text": [
      "\"COUNT\"(\"modelno\")\n",
      "------------------\n",
      "                 4\n"
     ]
    }
   ],
   "source": [
    "# TEMP: check that it hsa been analyzed\n",
    "pretty.pp_cursor(sys.stdout, satellites_bdb.execute('''SELECT COUNT(modelno) FROM bayesdb_crosscat_diagnostics\n",
    "                WHERE generator_id = (SELECT id FROM bayesdb_generator WHERE name = \"satellites_cc\")'''))"
   ]
  },
  {
   "cell_type": "code",
   "execution_count": null,
   "metadata": {
    "collapsed": false
   },
   "outputs": [],
   "source": [
    "# TEMP: analyze (we should load a pre-analyzed .bdb file for this demo)\n",
    "# satellites_bdb.execute('ANALYZE satellites_cc FOR 4 MINUTES CHECKPOINT 2 ITERATION WAIT;')"
   ]
  },
  {
   "cell_type": "code",
   "execution_count": 5,
   "metadata": {
    "collapsed": false
   },
   "outputs": [
    {
     "data": {
      "image/png": "[encoded data removed]",
      "text/plain": [
       "<matplotlib.figure.Figure at 0x10a659bd0>"
      ]
     },
     "metadata": {},
     "output_type": "display_data"
    }
   ],
   "source": [
    "df = bql_utils.cursor_to_df(satellites_bdb.execute(\n",
    "        'ESTIMATE DEPENDENCE PROBABILITY FROM PAIRWISE COLUMNS OF satellites_cc'))\n",
    "_ = plotutils.zmatrix(df)"
   ]
  },
  {
   "cell_type": "markdown",
   "metadata": {},
   "source": [
    "We also register a generator that uses heuristics to guess the types of columns."
   ]
  },
  {
   "cell_type": "code",
   "execution_count": null,
   "metadata": {
    "collapsed": false
   },
   "outputs": [],
   "source": [
    "generator = bayeslite.guess.bayesdb_guess_generator(satellites_bdb, 'satellites_cc', 'satellites', 'crosscat', \n",
    "                                                    ifnotexists=True)"
   ]
  },
  {
   "cell_type": "markdown",
   "metadata": {
    "collapsed": true
   },
   "source": [
    "Standard Database Functionality\n",
    "====\n",
    "We can use a SQLite command to list the columns in the table."
   ]
  },
  {
   "cell_type": "code",
   "execution_count": null,
   "metadata": {
    "collapsed": false
   },
   "outputs": [],
   "source": [
    "pretty.pp_cursor(sys.stdout, satellites_bdb.sql_execute('PRAGMA table_info(satellites)'))"
   ]
  },
  {
   "cell_type": "markdown",
   "metadata": {},
   "source": [
    "We can select data just as we would in SQL in BQL:"
   ]
  },
  {
   "cell_type": "code",
   "execution_count": null,
   "metadata": {
    "collapsed": false,
    "scrolled": false
   },
   "outputs": [],
   "source": [
    "pretty.pp_cursor(sys.stdout, satellites_bdb.execute(\n",
    "        'SELECT name, dry_mass_kg, period_minutes, class_of_orbit FROM satellites LIMIT 10;'))\n",
    "# TODO beautify"
   ]
  },
  {
   "cell_type": "markdown",
   "metadata": {},
   "source": [
    "Visualizing the Data\n",
    "====="
   ]
  },
  {
   "cell_type": "markdown",
   "metadata": {},
   "source": [
    "We can also use visualization tools packaged with BayesDB. In the next example, the first argument `dry_mass_kg` is a `NUMERICAL` variable and its conditional distribution is plotted for each value of the categorical variable `class_of_orbit`, alongside the marginal distributions."
   ]
  },
  {
   "cell_type": "code",
   "execution_count": null,
   "metadata": {
    "collapsed": false
   },
   "outputs": [],
   "source": [
    "# print some of the data before it gets plotted\n",
    "pretty.pp_cursor(sys.stdout, satellites_bdb.execute(\n",
    "        'SELECT dry_mass_kg, class_of_orbit FROM satellites LIMIT 10'))\n",
    "\n",
    "# TODO once fsaad is done, we won't need the dataframe\n",
    "# (the plotting will take the BQL command itself)\n",
    "df = bql_utils.cursor_to_df(satellites_bdb.execute(\n",
    "        'SELECT dry_mass_kg, class_of_orbit FROM satellites'))\n",
    "c = len(df.columns)*4\n",
    "fig = plt.figure(tight_layout=True, figsize=(c, c))\n",
    "gs = plotutils.pairplot(df, bdb=satellites_bdb, generator_name='satellites_cc',\n",
    "                        use_shortname=None, show_contour=False,\n",
    "                        colorby=None, show_missing=True, show_full=False)\n",
    "plt.show()\n",
    "\n",
    "# TODO this generates a warning message about tight_layout\n",
    "# TODO The categorical variable marginal bar plot should be tranposed\n",
    "# so it is aligned with the joint plot."
   ]
  },
  {
   "cell_type": "markdown",
   "metadata": {},
   "source": [
    "Inferring Missing Data\n",
    "=====\n",
    "Inferring is like imputing. `INFER` produces a summary value for a missing (`NULL`) entry. If we use the `EXPLICIT` keyword, we can re-infer present values."
   ]
  },
  {
   "cell_type": "markdown",
   "metadata": {},
   "source": [
    "Finally, we need to tell BayesDB which values to treat as missing, `NULL`. Different datasets use different markers for missing data, this dataset uses `NaN`. To convert all instances of `NaN` to SQL `NULL`, we use the `nullify` utility, followed by the table, followed by the value to convert to `NULL`."
   ]
  },
  {
   "cell_type": "code",
   "execution_count": null,
   "metadata": {
    "collapsed": false
   },
   "outputs": [],
   "source": [
    "# TODO replace bql_utils with contrib_utils once fsaad is done\n",
    "print 'total number of rows', bql_utils.cursor_to_df(satellites_bdb.execute('SELECT COUNT(*) FROM satellites;'))\n",
    "print 'before nullify'\n",
    "print 'NULL count', bql_utils.cursor_to_df(satellites_bdb.execute('SELECT COUNT(*) FROM satellites WHERE type_of_orbit IS NULL;'))\n",
    "print 'NaN count', bql_utils.cursor_to_df(satellites_bdb.execute('SELECT COUNT(*) FROM satellites WHERE type_of_orbit IS NaN;'))\n",
    "general_utils.nullify(satellites_bdb, 'satellites', float('NaN'))\n",
    "print 'after nullify'\n",
    "print 'NULL count', bql_utils.cursor_to_df(satellites_bdb.execute('SELECT COUNT(*) FROM satellites WHERE type_of_orbit IS NULL;'))\n",
    "print 'NaN count', bql_utils.cursor_to_df(satellites_bdb.execute('SELECT COUNT(*) FROM satellites WHERE type_of_orbit IS NaN;'))\n",
    "# TODO strage... need to debug this."
   ]
  },
  {
   "cell_type": "markdown",
   "metadata": {},
   "source": [
    "First we will impute missing values of `type_of_orbit`. Let us see how many values are missing."
   ]
  },
  {
   "cell_type": "code",
   "execution_count": null,
   "metadata": {
    "collapsed": false
   },
   "outputs": [],
   "source": [
    "pretty.pp_cursor(sys.stdout, satellites_bdb.execute('SELECT COUNT(*) FROM satellites WHERE type_of_orbit IS NULL;'))"
   ]
  },
  {
   "cell_type": "markdown",
   "metadata": {},
   "source": [
    "We will use the `INFER EXPLICIT` query to impute all missing values, and let BayesDB tell us the belief of its reported value. First we will pull out `anticipated_lifetime`, `perigee_km`, `period_minutes`, and `class_of_orbit` exactly as they appear in the table. Next we will use the special BQL expression `PREDICT <col_name> CONFIDENCE <conf_name>`, which will retrun two values: first, a prediction for `<col_name>` and second a confidence level for the predicted value."
   ]
  },
  {
   "cell_type": "code",
   "execution_count": null,
   "metadata": {
    "collapsed": false
   },
   "outputs": [],
   "source": [
    "#pretty.pp_cursor(sys.stdout, satellites_bdb.execute('INFER EXPLICIT type_of_orbit WITH CONFIDENCE from satellites_cc WHERE type_of_orbit IS NULL'))\n",
    "#pretty.pp_cursor(sys.stdout, satellites_bdb.execute('INFER type_of_orbit from satellites_cc'))"
   ]
  },
  {
   "cell_type": "code",
   "execution_count": null,
   "metadata": {
    "collapsed": false
   },
   "outputs": [],
   "source": [
    "pretty.pp_cursor(sys.stdout, satellites_bdb.execute('ESTIMATE DEPENDENCE PROBABILITY of period_minutes WITH period_minutes from satellites_cc'))"
   ]
  },
  {
   "cell_type": "code",
   "execution_count": null,
   "metadata": {
    "collapsed": false
   },
   "outputs": [],
   "source": [
    "satellites_bdb.execute('INFER EXPLICIT anticipated_lifetime, class_of_orbit, PREDICT type_of_orbit AS inferred_orbit_type CONFIDENCE inferred_orbit_type_conf FROM satellites_cc WHERE type_of_orbit IS NULL;')"
   ]
  },
  {
   "cell_type": "code",
   "execution_count": null,
   "metadata": {
    "collapsed": false
   },
   "outputs": [],
   "source": [
    "pretty.pp_cursor(sys.stdout, satellites_bdb.execute('''\n",
    "CREATE TEMP TABLE inferred_orbit AS INFER EXPLICIT\n",
    "        anticipated_lifetime, perigee_km, period_minutes, class_of_orbit,\n",
    "        PREDICT type_of_orbit AS inferred_orbit_type\n",
    "            CONFIDENCE inferred_orbit_type_conf\n",
    "    FROM satellites_cc\n",
    "    WHERE type_of_orbit IS NULL;'''))"
   ]
  },
  {
   "cell_type": "code",
   "execution_count": null,
   "metadata": {
    "collapsed": true
   },
   "outputs": [],
   "source": [
    "\n",
    "\n",
    "\n",
    "import bayeslite.guess\n",
    "import bayeslite.crosscat\n",
    "import crosscat\n",
    "import crosscat.LocalEngine\n",
    "from bdbcontrib.facade import do_query\n",
    "from bdbcontrib import plotutils\n",
    "from bdbcontrib import general_utils\n",
    "import matplotlib.pyplot as plt\n",
    "import seaborn as sns\n",
    "import pandas as pd\n",
    "\n",
    "# TODO: content taken from http://probcomp-4.csail.mit.edu/bayeslite/tutorials/satellites/satellites.bql"
   ]
  },
  {
   "cell_type": "markdown",
   "metadata": {},
   "source": []
  },
  {
   "cell_type": "code",
   "execution_count": null,
   "metadata": {
    "collapsed": false
   },
   "outputs": [],
   "source": []
  },
  {
   "cell_type": "markdown",
   "metadata": {},
   "source": [
    "Notice that `NaN` entires have been replaced with `None`, which is the way Python represents SQL `NULL`."
   ]
  },
  {
   "cell_type": "code",
   "execution_count": null,
   "metadata": {
    "collapsed": false
   },
   "outputs": [],
   "source": [
    "c = len(df.columns)*4\n",
    "\n",
    "fig = plt.figure(tight_layout=True, figsize=(c, c))\n",
    "gs = plotutils.pairplot(df, bdb=satellites_bdb, generator_name='satellites_cc',\n",
    "                        use_shortname=None, show_contour=False,\n",
    "                        colorby=None, show_missing=True, show_full=False)\n",
    "plt.close('all')\n",
    "# use plt.show() to open a separate window where you won't get a warning about tight_layout, \n",
    "# and you will have larger plots to look at.\n",
    "fig"
   ]
  },
  {
   "cell_type": "code",
   "execution_count": null,
   "metadata": {
    "collapsed": false
   },
   "outputs": [],
   "source": [
    "for row in satellites_bdb.execute(\"SELECT Name, dry_mass_kg FROM satellites LIMIT 10;\"):\n",
    "    print row"
   ]
  },
  {
   "cell_type": "code",
   "execution_count": null,
   "metadata": {
    "collapsed": true
   },
   "outputs": [],
   "source": []
  }
 ],
 "metadata": {
  "kernelspec": {
   "display_name": "Python 2",
   "language": "python",
   "name": "python2"
  },
  "language_info": {
   "codemirror_mode": {
    "name": "ipython",
    "version": 2
   },
   "file_extension": ".py",
   "mimetype": "text/x-python",
   "name": "python",
   "nbconvert_exporter": "python",
   "pygments_lexer": "ipython2",
   "version": "2.7.9"
  }
 },
 "nbformat": 4,
 "nbformat_minor": 0
}
