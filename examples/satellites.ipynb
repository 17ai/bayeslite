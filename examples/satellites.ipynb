{
 "metadata": {
  "name": "",
  "signature": "sha256:d578246f5b2e49fe87b7f41574aa2c2493d66120159e82cbaf6f88e4ddb382dc"
 },
 "nbformat": 3,
 "nbformat_minor": 0,
 "worksheets": [
  {
   "cells": [
    {
     "cell_type": "markdown",
     "metadata": {},
     "source": [
      "# Union of Concerned Scientists Satellites Database\n",
      "Man-made satellites don't present the easiest field of study, at least partly because of inaccessibility of data in the past, but also because of intangibility - these are machines we'll never see up close (hopefully!), and likely never even acknowledge until we have difficulty getting GPS reception while lost on a road trip.\n",
      "\n",
      "The Union of Concerned Scientists (UCS) created a database of characteristics of over 1000 orbiting satellites launched by countries around the world for any number of purposes and user categories, providing a new opportunity to analyze exactly what's going on above our heads. With the data set in hand, we're interested in seeing what BayesDB can detect about relationships in the data.\n",
      "\n",
      "You can find the latest version of the data [here](http://www.ucsusa.org/nuclear_weapons_and_global_security/solutions/space-weapons/ucs-satellite-database.html#.VTptWa1VhBc)."
     ]
    },
    {
     "cell_type": "code",
     "collapsed": false,
     "input": [
      "import bayeslite\n",
      "import bayeslite.crosscat\n",
      "from bayeslite import core\n",
      "\n",
      "from crosscat.MultiprocessingEngine import MultiprocessingEngine\n",
      "from bayeslite.shell.pretty import pp_cursor\n",
      "\n",
      "import os\n",
      "import sys\n",
      "\n",
      "def pprint(cursor):\n",
      "    return pp_cursor(sys.stdout, cursor)\n",
      "\n",
      "btable = 'satellites'\n",
      "generator = 'satellites_cc'\n",
      "csv_filename = os.path.join('data', 'satellites.csv')\n",
      "codebook_filename = os.path.join('data', 'satellites_codebook.csv')"
     ],
     "language": "python",
     "metadata": {},
     "outputs": [],
     "prompt_number": 1
    },
    {
     "cell_type": "markdown",
     "metadata": {},
     "source": [
      "## Creating a BayesDB instance\n",
      "We will first spin up a BayesDB instance which creates a SQLite3 database. In this case, we will not supply a filename to `bayeslite.BayesDB` so that the database is created in memory and no files are written to disk."
     ]
    },
    {
     "cell_type": "code",
     "collapsed": false,
     "input": [
      "bdb = bayeslite.BayesDB()"
     ],
     "language": "python",
     "metadata": {},
     "outputs": [],
     "prompt_number": 2
    },
    {
     "cell_type": "markdown",
     "metadata": {},
     "source": [
      "## Loading in data\n",
      "Next, we create a btable by loading the data from a .csv file. We let BayesDB know that we have supplied a file in which the first row is a header specifying the column names. **Note**: missing data should be left blank in the csv file.\n",
      "\n",
      "We also supply a codebook for our data. The codebook is a .csv file that contains extra information about the columns, which makes the data more interpretable. The codebook has four columns:\n",
      "\n",
      "- `name`: the column name to which the metadata are applied\n",
      "- `shortname`: a short, but human-readable column name\n",
      "- `description`: a long description of the column\n",
      "- `value_map`: a map of csv values to data values in JSON format. E.g. `{\"0\": \"False\", \"1\": \"True\"}`. Note that you will need to quote your JSON in your codebook csv."
     ]
    },
    {
     "cell_type": "code",
     "collapsed": false,
     "input": [
      "bayeslite.bayesdb_read_csv_file(bdb, btable, csv_filename, header=True, create=True)\n",
      "bayeslite.bayesdb_load_codebook_csv_file(bdb, btable, codebook_filename)"
     ],
     "language": "python",
     "metadata": {},
     "outputs": [],
     "prompt_number": 3
    },
    {
     "cell_type": "markdown",
     "metadata": {},
     "source": [
      "## Specifying a metamodel and creating a generator\n",
      "\n",
      "Next, we must specify the statistical metamodel by which we shall model the data in our btable. Currently BayesDB supports only the CrossCat metamodel (for more on CrossCat, visit the [repo](https://github.com/mit-probabilistic-computing-project/crosscat)). We must let BayesDB know that we want to model our btable with CrossCat and that we want to use CrossCat's multiprocessing engine. "
     ]
    },
    {
     "cell_type": "code",
     "collapsed": false,
     "input": [
      "engine = bayeslite.crosscat.CrosscatMetamodel(MultiprocessingEngine())\n",
      "bayeslite.bayesdb_register_metamodel(bdb, engine)"
     ],
     "language": "python",
     "metadata": {},
     "outputs": [],
     "prompt_number": 4
    },
    {
     "cell_type": "markdown",
     "metadata": {},
     "source": [
      "### Creating a generator\n",
      "A generator is an instance of a metamodel that is linked to a specific btable. The generator is the workhorse of BayesDB. Through it, we do pretty much everything that goes beyong regular SQL.\n",
      "\n",
      "Let's create a generator and tell it which stastistical types to assign to each column."
     ]
    },
    {
     "cell_type": "code",
     "collapsed": false,
     "input": [
      "bql = '''\n",
      "CREATE GENERATOR satellites_cc FOR satellites\n",
      "    USING crosscat (\n",
      "        GUESS(*),\n",
      "        Name IGNORE,\n",
      "        longitude_radians_of_geo CYCLIC,\n",
      "        Inclination_radians CYCLIC\n",
      "    );\n",
      "'''\n",
      "c = bdb.execute(bql)"
     ],
     "language": "python",
     "metadata": {},
     "outputs": [],
     "prompt_number": 5
    },
    {
     "cell_type": "markdown",
     "metadata": {},
     "source": [
      "We've created a generator called `satellites_cc` for the btable `satellites` using the crosscat metamodel we specified earlier. We've told BayesDB to model the columns `longitude_radians_of_geo` and `Inclination_radians` as cyclic variables, to ignore the `Name` column (because each value is unique and categorical and would slow down analyses while adding no quality), and to `GUESS` the remaining types. BayesDB does an OK job at guessing your types, but you can (and should!) verify that the statistical types are correct. CrossCat supports `CATEGORICAL`, `NUMERICAL`, and `CYCLIC` statistical types.\n",
      "\n",
      "### Verify statistical types\n",
      "The statistical types of the columns can be retrieved from the metadata tables, `bayesdb_generator` and `bayesdb_generator_column`."
     ]
    },
    {
     "cell_type": "code",
     "collapsed": false,
     "input": [
      "generator_id = core.bayesdb_get_generator(bdb, generator)\n",
      "sql = '''\n",
      "SELECT c.colno AS colno, c.name AS name,\n",
      "        gc.stattype AS stattype, c.shortname AS shortname\n",
      "    FROM bayesdb_generator AS g, \n",
      "        (bayesdb_column AS c LEFT OUTER JOIN\n",
      "            bayesdb_generator_column AS gc\n",
      "            USING (colno))\n",
      "    WHERE g.id = ? AND g.id = gc.generator_id;\n",
      "'''\n",
      "c = bdb.sql_execute(sql, (generator_id,))\n",
      "pprint(c)"
     ],
     "language": "python",
     "metadata": {},
     "outputs": [
      {
       "output_type": "stream",
       "stream": "stdout",
       "text": [
        "colno |                         name |    stattype |          shortname\n",
        "------+------------------------------+-------------+-------------------\n",
        "    1 |          Country_of_Operator | categorical |            Country\n",
        "    2 |               Operator_Owner | categorical |     Operator/owner\n",
        "    3 |                        Users | categorical |              Users\n",
        "    4 |                      Purpose | categorical |            Purpose\n",
        "    5 |               Class_of_Orbit | categorical |     class of orbit\n",
        "    6 |                Type_of_Orbit | categorical |         Orbit type\n",
        "    7 |                   Perigee_km |   numerical |            Perigee\n",
        "    8 |                    Apogee_km |   numerical |             Apogee\n",
        "    9 |                 Eccentricity |   numerical |       Eccentricity\n",
        "   10 |               Period_minutes |   numerical |             Period\n",
        "   11 |               Launch_Mass_kg |   numerical |        Launch mass\n",
        "   12 |                  Dry_Mass_kg |   numerical |           Dry mass\n",
        "   13 |                  Power_watts |   numerical |              Power\n",
        "   14 |               Date_of_Launch |   numerical |        Launch date\n",
        "   15 |            Expected_Lifetime |   numerical |  Expected lifetime\n",
        "   16 |                   Contractor | categorical |         Contractor\n",
        "   17 |        Country_of_Contractor | categorical | Contractor country\n",
        "   18 |                  Launch_Site | categorical |        Launch site\n",
        "   19 |               Launch_Vehicle | categorical |     Launch vehicle\n",
        "   20 | Source_Used_for_Orbital_Data | categorical |  Orbit data source\n",
        "   21 |     longitude_radians_of_geo |      cyclic |          Longitude\n",
        "   22 |          Inclination_radians |      cyclic |        Inclination\n"
       ]
      }
     ],
     "prompt_number": 6
    },
    {
     "cell_type": "markdown",
     "metadata": {},
     "source": [
      "BayesDB did a good job of guessing the statistical types of the columns we didn't explicitly specify. Now we are ready to run begin analyzing our data.\n",
      "\n",
      "## Running analyses\n",
      "We use BayesDB to generate independent samples, models, from CrossCat. To do this, we `INITIALIZE` some number of models (from the prior) and run the sampling algorithm for some duration. \n",
      "\n",
      "For purposes of expedience, we'll analyze a small number of models for a short amount of time."
     ]
    },
    {
     "cell_type": "code",
     "collapsed": false,
     "input": [
      "c = bdb.execute('INITIALIZE 8 MODELS FOR satellites_cc;')\n",
      "c = bdb.execute('ANALYZE satellites_cc FOR 2 MINUTES WAIT;')"
     ],
     "language": "python",
     "metadata": {},
     "outputs": [],
     "prompt_number": 7
    },
    {
     "cell_type": "markdown",
     "metadata": {},
     "source": [
      "We have asked BayesDB for initalize 8 models and to run the sampling algorithm for 2 minutes. The `WAIT` keyword tells BayesDB \"we are not interested in any metadata untill 2 minutes are over, so just keep running.\" In practice we'd want far more models with far more iterations, but these meager analyses are sufficent for pedagoical purposes.\n",
      "\n",
      "We can see how many iterations we were able to get in two minutes by acessing the `bayesdb_generator_model` table."
     ]
    },
    {
     "cell_type": "code",
     "collapsed": false,
     "input": [
      "bql = '''\n",
      "SELECT modelno, iterations FROM bayesdb_generator_model\n",
      "    WHERE generator_id = ?\n",
      "    ORDER BY modelno ASC;\n",
      "'''\n",
      "c = bdb.execute(bql, (generator_id,))\n",
      "pprint(c)"
     ],
     "language": "python",
     "metadata": {},
     "outputs": [
      {
       "output_type": "stream",
       "stream": "stdout",
       "text": [
        "modelno | iterations\n",
        "--------+-----------\n",
        "      0 |         96\n",
        "      1 |         96\n",
        "      2 |         96\n",
        "      3 |         96\n",
        "      4 |         96\n",
        "      5 |         96\n",
        "      6 |         96\n",
        "      7 |         96\n"
       ]
      }
     ],
     "prompt_number": 8
    },
    {
     "cell_type": "markdown",
     "metadata": {},
     "source": [
      "## Finding anomalies\n",
      "\n",
      "Let's ask BayesDB which satellites have suprising expected lifetimes. We'll do this by asking BayesDB for the probability of the obsered values for `Expected_Lifetime` under the model it has inferred. Lower probability is considered to be more suprising. Note that predictive probabilites are PDF or PMF values; do not be alarmed if you find that predictive probability of a `NUMERICAL` or `CYCLIC` variable is greater than 1.\n",
      "\n",
      "Because calculating `PREDICTIVE PROBABILITY` over an entire column is expensive, we shall cache this computation using SQL temporary tables. We shall then print out the 20 most anomalous entries---and let's use some of SQLite3's built in fucntions to make sure that the output fits on the screen (some of these satellite names are long)."
     ]
    },
    {
     "cell_type": "code",
     "collapsed": false,
     "input": [
      "bql = '''\n",
      "CREATE TEMP TABLE predprob_life AS \n",
      "    ESTIMATE Name, Expected_Lifetime, \n",
      "             PREDICTIVE PROBABILITY OF Expected_Lifetime AS p_lifetime,\n",
      "             Class_of_Orbit\n",
      "    FROM satellites_cc;\n",
      "'''\n",
      "c = bdb.execute(bql)\n",
      "\n",
      "bql = '''\n",
      "SELECT substr(Name, 1, 27) as Name, Class_of_Orbit, Expected_Lifetime, p_lifetime\n",
      "    FROM predprob_life\n",
      "    ORDER BY p_lifetime ASC\n",
      "    LIMIT 20;\n",
      "'''\n",
      "c = bdb.execute(bql)\n",
      "pprint(c)"
     ],
     "language": "python",
     "metadata": {},
     "outputs": [
      {
       "output_type": "stream",
       "stream": "stdout",
       "text": [
        "                       Name | Class_of_Orbit | Expected_Lifetime |        p_lifetime\n",
        "----------------------------+----------------+-------------------+------------------\n",
        "International Space Station |            LEO |                30 | 1.56209529169e-08\n",
        "Milstar DFS-5 (USA 164, Mil |            GEO |                 0 |  0.00119054844273\n",
        "                  Landsat 7 |            LEO |                15 |  0.00120818968604\n",
        "DSP 21 (USA 159) (Defense S |            GEO |               0.5 |  0.00173913111633\n",
        "DSP 22 (USA 176) (Defense S |            GEO |               0.5 |  0.00173913111633\n",
        "Express-A1R (Express 4A, Ek |            GEO |               0.5 |  0.00173913111633\n",
        "                     GSAT-2 |            GEO |               0.5 |  0.00173913111633\n",
        "               Intelsat 701 |            GEO |               0.5 |  0.00173913111633\n",
        "       Kalpana-1 (Metsat-1) |            GEO |               0.5 |  0.00173913111633\n",
        "                   Optus B3 |            GEO |               0.5 |  0.00173913111633\n",
        "SDS III-3 (Satellite Data S |            GEO |               0.5 |  0.00173913111633\n",
        "                  Sicral 1A |            GEO |               0.5 |  0.00173913111633\n",
        "                  Sicral 1B |            GEO |               0.5 |  0.00173913111633\n",
        "MUOS-1 (Mobile User Objecti |            GEO |               0.5 |  0.00429299588829\n",
        "MUOS-2 (Mobile User Objecti |            GEO |               0.5 |  0.00429299588829\n",
        "Globalstar M073 (Globalstar |            LEO |                15 |  0.00685690228626\n",
        "Globalstar M074 (Globalstar |            LEO |                15 |  0.00685690228626\n",
        "Globalstar M075 (Globalstar |            LEO |                15 |  0.00685690228626\n",
        "Globalstar M076 (Globalstar |            LEO |                15 |  0.00685690228626\n",
        "Globalstar M077 (Globalstar |            LEO |                15 |  0.00685690228626\n"
       ]
      }
     ],
     "prompt_number": 9
    },
    {
     "cell_type": "markdown",
     "metadata": {},
     "source": [
      "We see that the International Space Station has, by far, the most suprising lifetime. The ISS is, of course, one of only a couple of satellites that we go up and fix! BayesDB also found Milstar DFS-5's zero expected lifetime suprising. Perhaps this is a data entry error, which brings us to...\n",
      "\n",
      "### Finding data entry errors\n",
      "Many of the columns in this table share nearly deterministic relationships governed by the laws of physics, for example, the relationship between type of orbit and period. Searching for anomalies in these columns may reveal data entry errors. We shall proceed as before."
     ]
    },
    {
     "cell_type": "code",
     "collapsed": false,
     "input": [
      "bql = '''\n",
      "CREATE TEMP TABLE predprob_period AS \n",
      "    ESTIMATE Name, class_of_orbit, Period_minutes,\n",
      "        PREDICTIVE PROBABILITY OF Period_minutes AS p_period\n",
      "    FROM satellites_cc;\n",
      "'''\n",
      "c = bdb.execute(bql)\n",
      "\n",
      "bql = '''\n",
      "SELECT substr(Name, 1, 27) as Name, Class_of_Orbit, Period_minutes, p_period\n",
      "    FROM predprob_period\n",
      "    ORDER BY p_period ASC\n",
      "    LIMIT 10;\n",
      "'''\n",
      "c = bdb.execute(bql);\n",
      "pprint(c)"
     ],
     "language": "python",
     "metadata": {},
     "outputs": [
      {
       "output_type": "stream",
       "stream": "stdout",
       "text": [
        "                       Name | Class_of_Orbit | Period_minutes |          p_period\n",
        "----------------------------+----------------+----------------+------------------\n",
        "SDS III-6 (Satellite Data S |            GEO |          14.36 | 4.85458199304e-06\n",
        "Advanced Orion 6 (NRO L-15, |            GEO |          23.94 | 5.42967058743e-06\n",
        "SDS III-7 (Satellite Data S |            GEO |          23.94 | 5.42967058743e-06\n",
        "DSP 20 (USA 149) (Defense S |            GEO |         142.08 | 1.24610616899e-05\n",
        "Glonass 733 (Glonass 41-2,  |            MEO |         670.47 | 0.000605915021079\n",
        "Glonass 736 (Glonass 43-1,  |            MEO |          671.2 | 0.000609617409446\n",
        "Glonass 729 (Glonass 39-3,  |            MEO |         671.71 | 0.000612199551074\n",
        "Glonass 722 (Glonass 37-2,  |            MEO |          672.7 | 0.000617200891068\n",
        "Glonass 734 (Glonass 41-3,  |            MEO |         675.08 | 0.000629159110986\n",
        "Glonass 724 (Glonass 38-1,  |            MEO |          675.2 | 0.000629759421569\n"
       ]
      }
     ],
     "prompt_number": 10
    },
    {
     "cell_type": "markdown",
     "metadata": {},
     "source": [
      "Indeed, we have found several non-physical entries. A geosynchronous orbit should have a period close to 24 hours, or 1440 minutes. SDS III-6 and DSP 20 appear to have decimal place errors, while Advanced Orion 6 and SDS III-7 appear to have entries in hours, not minutes. \n",
      "\n",
      "**Note**: The 2/1/15 UCS data do not have the Advanced Orion 6 error and we have notified the UCS of the other errors (we're not jerks!).\n",
      "\n",
      "## The strength of dependencies\n",
      "To see which variables are dependent with period, we ask BayesDB about the dependence probability of period with the other columns."
     ]
    },
    {
     "cell_type": "code",
     "collapsed": false,
     "input": [
      "bql = '''\n",
      "ESTIMATE COLUMNS DEPENDENCE PROBABILITY WITH Period_minutes as depprob_period\n",
      "    FROM satellites_cc\n",
      "    ORDER BY depprob_period DESC LIMIT 10;\n",
      "'''\n",
      "c = bdb.execute(bql);\n",
      "pprint(c)"
     ],
     "language": "python",
     "metadata": {},
     "outputs": [
      {
       "output_type": "stream",
       "stream": "stdout",
       "text": [
        "                        name | depprob_period\n",
        "-----------------------------+---------------\n",
        "              Class_of_Orbit |            1.0\n",
        "               Type_of_Orbit |            1.0\n",
        "                  Perigee_km |            1.0\n",
        "                   Apogee_km |            1.0\n",
        "              Period_minutes |              1\n",
        "           Expected_Lifetime |            1.0\n",
        "Source_Used_for_Orbital_Data |            1.0\n",
        "         Inclination_radians |            1.0\n",
        "                Eccentricity |           0.75\n",
        "                       Users |          0.625\n"
       ]
      }
     ],
     "prompt_number": 11
    },
    {
     "cell_type": "markdown",
     "metadata": {},
     "source": [
      "BayesDB infers that columns that are physically dependent are highly statistically dependent.\n",
      "\n",
      "\n",
      "## Simulating data\n",
      "We obtain hypotheical data from BayesDB by creating temporary tables and filling them with `SIMULATE`. We can specify conditions using `GIVEN` and specify how many samples we want using `LIMIT`."
     ]
    },
    {
     "cell_type": "code",
     "collapsed": false,
     "input": [
      "bql = '''\n",
      "CREATE TEMP TABLE simusers20 AS \n",
      "    SIMULATE users FROM satellites_cc GIVEN expected_lifetime = 20\n",
      "    LIMIT 100;\n",
      "'''\n",
      "c = bdb.execute(bql);\n",
      "bql = '''\n",
      "SELECT users, COUNT(*) AS total \n",
      "    FROM simusers20\n",
      "    GROUP BY users \n",
      "    ORDER BY TOTAL DESC;\n",
      "'''\n",
      "c = bdb.execute(bql)\n",
      "pprint(c)"
     ],
     "language": "python",
     "metadata": {},
     "outputs": [
      {
       "output_type": "stream",
       "stream": "stdout",
       "text": [
        "                users | total\n",
        "----------------------+------\n",
        "           Commercial |    30\n",
        "           Government |    27\n",
        "             Military |    15\n",
        "                Civil |     8\n",
        "  Military/Commercial |     8\n",
        "     Government/Civil |     3\n",
        "Government/Commercial |     3\n",
        "  Government/Military |     2\n",
        "  Military/Government |     2\n",
        "       Civil/Military |     1\n",
        "            Commecial |     1\n"
       ]
      }
     ],
     "prompt_number": 12
    },
    {
     "cell_type": "markdown",
     "metadata": {},
     "source": [
      "## Further reading\n",
      "The API documentation can be found [here](www.github.com/sendyoutoa404/).\n",
      "\n",
      "Shell-based examples can be found in the [contrib repository](https://github.com/mit-probabilistic-computing-project/bdbcontrib)."
     ]
    }
   ],
   "metadata": {}
  }
 ]
}